{
 "cells": [
  {
   "cell_type": "markdown",
   "metadata": {},
   "source": [
    "# Salary Analysis of BA, DA, DS, and DE\n",
    "### Datasets\n",
    "- https://www.kaggle.com/datasets/andrewmvd/data-scientist-jobs\n",
    "- https://www.kaggle.com/datasets/andrewmvd/data-engineer-jobs\n",
    "- https://www.kaggle.com/datasets/andrewmvd/data-analyst-jobs\n",
    "- https://www.kaggle.com/datasets/andrewmvd/business-analyst-jobs\n",
    "### Reference\n",
    "- https://www.kaggle.com/code/josephgutstadt/skills-for-a-data-scientist-analyst/notebook\n",
    "- **Note**: If you want to find more visualization of these datasets, please visit [BA, DA or DS? Plotly tells you](https://www.kaggle.com/code/seanzhang1997/ba-da-or-ds-plotly-tells-you)"
   ]
  },
  {
   "cell_type": "code",
   "execution_count": 7,
   "metadata": {},
   "outputs": [],
   "source": [
    "import pandas as pd\n",
    "import numpy as np\n",
    "import matplotlib.pyplot as plt\n",
    "import seaborn as sns\n",
    "import plotly.graph_objects as go\n",
    "import networkx as nx \n",
    "\n",
    "from constant import *\n",
    "from analysis import *"
   ]
  },
  {
   "cell_type": "code",
   "execution_count": null,
   "metadata": {},
   "outputs": [],
   "source": []
  }
 ],
 "metadata": {
  "interpreter": {
   "hash": "ccec5655349499c8db2723a1bfc66b077213de92406b523015a0780286c7a277"
  },
  "kernelspec": {
   "display_name": "Python 3.8.5 ('base')",
   "language": "python",
   "name": "python3"
  },
  "language_info": {
   "codemirror_mode": {
    "name": "ipython",
    "version": 3
   },
   "file_extension": ".py",
   "mimetype": "text/x-python",
   "name": "python",
   "nbconvert_exporter": "python",
   "pygments_lexer": "ipython3",
   "version": "3.8.5"
  },
  "orig_nbformat": 4
 },
 "nbformat": 4,
 "nbformat_minor": 2
}
